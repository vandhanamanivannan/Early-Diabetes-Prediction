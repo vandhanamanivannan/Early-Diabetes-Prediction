{
 "cells": [
  {
   "cell_type": "markdown",
   "id": "80b3d90c",
   "metadata": {},
   "source": [
    "# Importing Libraries"
   ]
  },
  {
   "cell_type": "code",
   "execution_count": null,
   "id": "bfe29237",
   "metadata": {},
   "outputs": [],
   "source": [
    "import numpy as np\n",
    "import pandas as pd\n",
    "import sklearn as sk\n",
    "import seaborn as sns\n",
    "import xgboost as xgb\n",
    "from sklearn.model_selection import train_test_split\n",
    "from sklearn.preprocessing import StandardScaler\n",
    "from matplotlib import pyplot as plt\n",
    "from sklearn.tree import DecisionTreeClassifier, export_graphviz\n",
    "from sklearn import tree\n",
    "from sklearn.metrics import accuracy_score, confusion_matrix, r2_score\n",
    "from sklearn.metrics import classification_report\n",
    "from sklearn.ensemble import AdaBoostClassifier\n",
    "from sklearn.ensemble import RandomForestClassifier\n",
    "from sklearn import svm\n",
    "from sklearn.svm import SVC\n",
    "from sklearn.naive_bayes import GaussianNB \n",
    "from sklearn.neighbors import KNeighborsClassifier\n",
    "from sklearn.ensemble import VotingClassifier\n",
    "from sklearn.preprocessing import MinMaxScaler\n",
    "from sklearn.model_selection import GridSearchCV\n",
    "from sklearn.model_selection import RandomizedSearchCV\n",
    "from sklearn.linear_model import LogisticRegression\n",
    "\n",
    "from sklearn.metrics import roc_curve\n",
    "from sklearn.metrics import roc_auc_score\n",
    "from xgboost import XGBRegressor\n",
    "from sklearn.metrics import mean_squared_error\n",
    "\n",
    "from sklearn.linear_model import LinearRegression\n",
    "\n",
    "from sklearn.model_selection import StratifiedKFold,cross_val_score\n",
    "\n",
    "from sklearn.ensemble import BaggingClassifier"
   ]
  },
  {
   "cell_type": "markdown",
   "id": "36f6e55d",
   "metadata": {},
   "source": [
    "# Data Pre-processing"
   ]
  },
  {
   "cell_type": "code",
   "execution_count": null,
   "id": "beb98fee",
   "metadata": {
    "scrolled": true
   },
   "outputs": [],
   "source": [
    "# Load the dataset\n",
    "df = pd.read_csv('diabetes.csv')\n",
    "df.head(10)"
   ]
  },
  {
   "cell_type": "code",
   "execution_count": null,
   "id": "5425c871",
   "metadata": {},
   "outputs": [],
   "source": [
    "df.shape"
   ]
  },
  {
   "cell_type": "code",
   "execution_count": null,
   "id": "4b5fb360",
   "metadata": {},
   "outputs": [],
   "source": [
    "df.describe()"
   ]
  },
  {
   "cell_type": "code",
   "execution_count": null,
   "id": "322e1294",
   "metadata": {},
   "outputs": [],
   "source": [
    "df.isna().sum()"
   ]
  },
  {
   "cell_type": "code",
   "execution_count": null,
   "id": "2ec4971a",
   "metadata": {},
   "outputs": [],
   "source": [
    "print(\"No. of rows with null glucose value: {0}\".format(len(df.loc[df['Glucose'] == 0])))\n",
    "print(\"No. of rows with null BloodPressure: {0}\".format(len(df.loc[df['BloodPressure'] == 0])))\n",
    "print(\"No. of rows with null skin thikness: {0}\".format(len(df.loc[df['SkinThickness'] == 0])))\n",
    "print(\"No. of rows with null Insulin: {0}\".format(len(df.loc[df['Insulin'] == 0])))\n",
    "print(\"No. of rows with null BMI: {0}\".format(len(df.loc[df['BMI'] == 0])))\n",
    "print(\"No. of rows with null DiabetesPedigreeFunction: {0}\".format(len(df.loc[df['DiabetesPedigreeFunction'] == 0])))\n",
    "print(\"No. of rows with null age: {0}\".format(len(df.loc[df['Age'] == 0])))\n"
   ]
  },
  {
   "cell_type": "code",
   "execution_count": null,
   "id": "f13055f7",
   "metadata": {},
   "outputs": [],
   "source": [
    "# replace missing values (0) with the mean values calculated from the non-missing values in each respective column.\n",
    "from sklearn.impute import SimpleImputer\n",
    "imputer = SimpleImputer(strategy='mean', missing_values=0)\n",
    "imputer = imputer.fit(df[['Glucose','BloodPressure','SkinThickness','Insulin','BMI']])\n",
    "df[['Glucose','BloodPressure','SkinThickness','Insulin','BMI']] = imputer.transform(df[['Glucose','BloodPressure','SkinThickness','Insulin','BMI']])\n"
   ]
  },
  {
   "cell_type": "code",
   "execution_count": null,
   "id": "ee85c408",
   "metadata": {},
   "outputs": [],
   "source": [
    "print(\"No. of rows with null glucose value: {0}\".format(len(df.loc[df['Glucose'] == 0])))\n",
    "print(\"No. of rows with null BloodPressure: {0}\".format(len(df.loc[df['BloodPressure'] == 0])))\n",
    "print(\"No. of rows with null skin thikness: {0}\".format(len(df.loc[df['SkinThickness'] == 0])))\n",
    "print(\"No. of rows with null Insulin: {0}\".format(len(df.loc[df['Insulin'] == 0])))\n",
    "print(\"No. of rows with null BMI: {0}\".format(len(df.loc[df['BMI'] == 0])))\n",
    "print(\"No. of rows with null DiabetesPedigreeFunction: {0}\".format(len(df.loc[df['DiabetesPedigreeFunction'] == 0])))\n",
    "print(\"No. of rows with null age: {0}\".format(len(df.loc[df['Age'] == 0])))"
   ]
  },
  {
   "cell_type": "code",
   "execution_count": null,
   "id": "ca524296",
   "metadata": {},
   "outputs": [],
   "source": [
    "df.head(10)"
   ]
  },
  {
   "cell_type": "code",
   "execution_count": null,
   "id": "bbeaa54a",
   "metadata": {},
   "outputs": [],
   "source": [
    "f,ax = plt.subplots(1,2, figsize=(10,5))\n",
    "df['Outcome'].value_counts().plot.pie(explode=[0,0.1],autopct='%1.1f%%', ax=ax[0],shadow=True)\n",
    "ax[0].set_title('Outcome')\n",
    "ax[0].set_ylabel('')\n",
    "sns.countplot('Outcome', data=df, ax=ax[1])\n",
    "ax[1].set_title('Outcome')\n",
    "N,P = df['Outcome'].value_counts()\n",
    "\n",
    "plt.grid()\n",
    "plt.show()"
   ]
  },
  {
   "cell_type": "code",
   "execution_count": null,
   "id": "a3689a8a",
   "metadata": {},
   "outputs": [],
   "source": [
    "df['Outcome'].value_counts()"
   ]
  },
  {
   "cell_type": "markdown",
   "id": "553b2df9",
   "metadata": {},
   "source": [
    "# Splitting Data"
   ]
  },
  {
   "cell_type": "code",
   "execution_count": null,
   "id": "6c71e635",
   "metadata": {},
   "outputs": [],
   "source": [
    "X = df.drop(columns='Outcome', axis=1)\n",
    "Y = df['Outcome']"
   ]
  },
  {
   "cell_type": "code",
   "execution_count": null,
   "id": "ff95dd3c",
   "metadata": {},
   "outputs": [],
   "source": [
    "X_train, X_test, y_train, y_test = train_test_split(X, Y, test_size = 0.20, random_state = 0)"
   ]
  },
  {
   "cell_type": "code",
   "execution_count": null,
   "id": "4a4406be",
   "metadata": {},
   "outputs": [],
   "source": [
    "from sklearn.feature_selection import mutual_info_classif\n",
    "\n",
    "mutual_info = mutual_info_classif(X_train, y_train, random_state = 0)\n",
    "mutual_info\n"
   ]
  },
  {
   "cell_type": "code",
   "execution_count": null,
   "id": "119c6f74",
   "metadata": {},
   "outputs": [],
   "source": [
    "mutual_info = pd.Series(mutual_info)\n",
    "mutual_info.index = X_train.columns\n",
    "mutual_info.sort_values(ascending = False)"
   ]
  },
  {
   "cell_type": "code",
   "execution_count": null,
   "id": "f9d21fe8",
   "metadata": {},
   "outputs": [],
   "source": [
    "plt.figure(figsize = (20, 8))\n",
    "mutual_info.sort_values(ascending = False).plot.bar();\n",
    "     "
   ]
  },
  {
   "cell_type": "code",
   "execution_count": null,
   "id": "eefe11ed",
   "metadata": {},
   "outputs": [],
   "source": [
    "df.drop(columns='DiabetesPedigreeFunction',axis=1, inplace=True)"
   ]
  },
  {
   "cell_type": "code",
   "execution_count": null,
   "id": "79856f36",
   "metadata": {},
   "outputs": [],
   "source": [
    "df.head(10)"
   ]
  },
  {
   "cell_type": "code",
   "execution_count": null,
   "id": "8519b03d",
   "metadata": {},
   "outputs": [],
   "source": [
    "X = df.drop(columns='Outcome', axis=1)\n",
    "Y = df['Outcome']\n",
    "     "
   ]
  },
  {
   "cell_type": "code",
   "execution_count": null,
   "id": "5208fb50",
   "metadata": {},
   "outputs": [],
   "source": [
    "X_train, X_test, y_train, y_test = train_test_split(X, Y, test_size = 0.20, random_state = 0, stratify =Y )"
   ]
  },
  {
   "cell_type": "code",
   "execution_count": null,
   "id": "1925adce",
   "metadata": {},
   "outputs": [],
   "source": [
    "print(X.shape, X_train.shape,y_train.shape, X_test.shape)"
   ]
  },
  {
   "cell_type": "markdown",
   "id": "e86de3d6",
   "metadata": {},
   "source": [
    "# Model Implementation"
   ]
  },
  {
   "cell_type": "markdown",
   "id": "6a94fb5e",
   "metadata": {},
   "source": [
    "# Smote - ADASYN "
   ]
  },
  {
   "cell_type": "code",
   "execution_count": null,
   "id": "c6e7e9b9",
   "metadata": {},
   "outputs": [],
   "source": [
    "from imblearn.over_sampling import SMOTE\n",
    "sm = SMOTE( sampling_strategy='minority',random_state=0)\n",
    "X_smote, y_smote = sm.fit_resample(X_train, y_train)\n",
    "\n",
    "np.bincount(y_smote)"
   ]
  },
  {
   "cell_type": "code",
   "execution_count": null,
   "id": "4ca88b84",
   "metadata": {},
   "outputs": [],
   "source": [
    "# Before smote\n",
    "y_train.value_counts()\n"
   ]
  },
  {
   "cell_type": "code",
   "execution_count": null,
   "id": "2dd4ec2b",
   "metadata": {
    "scrolled": true
   },
   "outputs": [],
   "source": [
    "# outcome before smote\n",
    "f,ax = plt.subplots(1,2, figsize=(10,5))\n",
    "y_train.value_counts().plot.pie(explode=[0,0.1],autopct='%1.1f%%', ax=ax[0],shadow=True)\n",
    "ax[0].set_title('Outcome')\n",
    "ax[0].set_ylabel('')\n",
    "\n",
    "\n",
    "\n",
    "plt.show()"
   ]
  },
  {
   "cell_type": "code",
   "execution_count": null,
   "id": "1b812393",
   "metadata": {},
   "outputs": [],
   "source": [
    "# after smote\n",
    "\n",
    "y_smote.value_counts()"
   ]
  },
  {
   "cell_type": "code",
   "execution_count": null,
   "id": "c8003e76",
   "metadata": {
    "scrolled": true
   },
   "outputs": [],
   "source": [
    "# outcome after smote\n",
    "f,ax = plt.subplots(1,2, figsize=(10,5))\n",
    "y_smote.value_counts().plot.pie(explode=[0,0.1],autopct='%1.1f%%', ax=ax[0],shadow=True)\n",
    "ax[0].set_title('Outcome')\n",
    "ax[0].set_ylabel('')\n",
    "\n",
    "\n",
    "\n",
    "plt.show()"
   ]
  },
  {
   "cell_type": "markdown",
   "id": "e4afcfe2",
   "metadata": {},
   "source": [
    "# SVM"
   ]
  },
  {
   "cell_type": "code",
   "execution_count": null,
   "id": "51b515f3",
   "metadata": {},
   "outputs": [],
   "source": [
    "cols_to_scale = ['Pregnancies',\n",
    " 'Glucose',\n",
    " 'BloodPressure',\n",
    " 'SkinThickness',\n",
    " 'Insulin',\n",
    " 'BMI',\n",
    " 'Age']\n",
    "scaler = MinMaxScaler()\n",
    "scaler.fit(X_smote[cols_to_scale])\n",
    "X_smote[cols_to_scale] = scaler.transform(X_smote[cols_to_scale])\n",
    "X_test[cols_to_scale] = scaler.transform(X_test[cols_to_scale])"
   ]
  },
  {
   "cell_type": "code",
   "execution_count": null,
   "id": "cb9c522d",
   "metadata": {},
   "outputs": [],
   "source": [
    "svm_clf = svm.SVC()\n",
    "# defining parameter range\n",
    "param_grid = {'C': [0.1, 1, 10, 100, 1000],\n",
    "              'gamma': [1, 0.1, 0.01, 0.001, 0.0001],\n",
    "              'kernel': ['rbf']}\n",
    " \n",
    "svm_grid = GridSearchCV(SVC(), param_grid, refit = True, verbose = 3) \n",
    " \n",
    "# fitting the model for grid search\n",
    "svm_grid.fit(X_smote, y_smote)"
   ]
  },
  {
   "cell_type": "code",
   "execution_count": null,
   "id": "4f5a81c8",
   "metadata": {},
   "outputs": [],
   "source": [
    "svm_grid.best_estimator_\n",
    "svm_bestgrid=svm_grid.best_estimator_\n",
    "svm_bestgrid"
   ]
  },
  {
   "cell_type": "code",
   "execution_count": null,
   "id": "1f79fc43",
   "metadata": {},
   "outputs": [],
   "source": [
    "y_pred=svm_bestgrid.predict(X_test)\n",
    "print(confusion_matrix(y_test,y_pred))\n",
    "print(\"Accuracy Score {}\".format(accuracy_score(y_test,y_pred)))\n",
    "print(classification_report(y_test,y_pred))"
   ]
  },
  {
   "cell_type": "code",
   "execution_count": null,
   "id": "eefc244a",
   "metadata": {},
   "outputs": [],
   "source": [
    "skfold = StratifiedKFold(n_splits=5)\n",
    "\n",
    "cv_score = cross_val_score(svm_grid,X,Y,cv=skfold)"
   ]
  },
  {
   "cell_type": "code",
   "execution_count": null,
   "id": "b9fbe64b",
   "metadata": {},
   "outputs": [],
   "source": [
    "cv_score"
   ]
  },
  {
   "cell_type": "code",
   "execution_count": null,
   "id": "79e84b91",
   "metadata": {},
   "outputs": [],
   "source": [
    "results=cv_score\n",
    "print(\"Results = \", np.mean(results),\"+/-\",np.std(results))"
   ]
  },
  {
   "cell_type": "markdown",
   "id": "d3613047",
   "metadata": {},
   "source": [
    "# Bagging Classifier"
   ]
  },
  {
   "cell_type": "code",
   "execution_count": null,
   "id": "449b5505",
   "metadata": {},
   "outputs": [],
   "source": [
    "bagging = BaggingClassifier(base_estimator=DecisionTreeClassifier(),\n",
    "                            n_estimators=50, max_samples=100, bootstrap=True,\n",
    "                            n_jobs=1, random_state=42, oob_score=True)\n",
    "\n",
    "bagging.fit(X_smote,y_smote)"
   ]
  },
  {
   "cell_type": "code",
   "execution_count": null,
   "id": "1e2e267e",
   "metadata": {},
   "outputs": [],
   "source": [
    "y_pred=bagging.predict(X_test)\n",
    "print(confusion_matrix(y_test,y_pred))\n",
    "print(\"Accuracy Score {}\".format(accuracy_score(y_test,y_pred)))\n",
    "print(classification_report(y_test,y_pred))"
   ]
  },
  {
   "cell_type": "code",
   "execution_count": null,
   "id": "cc42694d",
   "metadata": {},
   "outputs": [],
   "source": [
    "skfold = StratifiedKFold(n_splits=5)\n",
    "\n",
    "cv_score = cross_val_score(bagging,X,Y,cv=skfold)"
   ]
  },
  {
   "cell_type": "code",
   "execution_count": null,
   "id": "14d402b2",
   "metadata": {},
   "outputs": [],
   "source": [
    "cv_score"
   ]
  },
  {
   "cell_type": "code",
   "execution_count": null,
   "id": "c9b52a10",
   "metadata": {},
   "outputs": [],
   "source": [
    "results=cv_score\n",
    "print(\"Results = \", np.mean(results),\"+/-\",np.std(results))"
   ]
  },
  {
   "cell_type": "markdown",
   "id": "e8e8b761",
   "metadata": {},
   "source": [
    "# Decision Tree"
   ]
  },
  {
   "cell_type": "code",
   "execution_count": null,
   "id": "8ee68739",
   "metadata": {},
   "outputs": [],
   "source": [
    "maxdepths = [2,3,4,5,6,7,8,9,10,15,20,25,30,35,40,45,50]\n",
    "trainAcc = np.zeros(len(maxdepths))\n",
    "testAcc = np.zeros(len(maxdepths))\n",
    "\n",
    "index = 0\n",
    "for depth in maxdepths:\n",
    "    clf = tree.DecisionTreeClassifier(max_depth=depth)\n",
    "    clf = clf.fit(X_smote, y_smote)\n",
    "    y_predTrain = clf.predict(X_smote)\n",
    "    y_predTest = clf.predict(X_test)\n",
    "    trainAcc[index] = accuracy_score(y_smote, y_predTrain)\n",
    "    testAcc[index] = accuracy_score(y_test, y_predTest)\n",
    "    print(\"Depth = \", depth, \", Training Accuracy = \", trainAcc[index], \", Test Accuracy = \", testAcc[index], \n",
    "          \", Diff = \", np.abs((trainAcc[index]-testAcc[index])*100), \" %\")\n",
    "    index += 1\n",
    "\n",
    "    \n",
    "#########################################\n",
    "# Plot of training and test accuracies\n",
    "#########################################\n",
    "    \n",
    "plt.plot(maxdepths,trainAcc,'ro-',maxdepths,testAcc,'bv--')\n",
    "plt.legend(['Training Accuracy','Test Accuracy'])\n",
    "plt.xlabel('Max depth')\n",
    "plt.ylabel('Accuracy');"
   ]
  },
  {
   "cell_type": "code",
   "execution_count": null,
   "id": "20f1c540",
   "metadata": {},
   "outputs": [],
   "source": [
    "# create a model \n",
    "dt = DecisionTreeClassifier(max_depth = 2, random_state=0)\n",
    "dt.fit(X_smote, y_smote)"
   ]
  },
  {
   "cell_type": "code",
   "execution_count": null,
   "id": "c51241f2",
   "metadata": {},
   "outputs": [],
   "source": [
    "# Accuracy on Train\n",
    "print(\"Training Accuracy is: \", dt.score(X_smote, y_smote))\n",
    "\n",
    "# Accuracy on Test\n",
    "print(\"Testing Accuracy is: \", dt.score(X_test, y_test))\n",
    "X_test_prediction  = dt.predict(X_test) \n",
    "\n",
    "print(classification_report(y_test, X_test_prediction))"
   ]
  },
  {
   "cell_type": "code",
   "execution_count": null,
   "id": "bcbb290f",
   "metadata": {},
   "outputs": [],
   "source": [
    "skfold = StratifiedKFold(n_splits=5)\n",
    "\n",
    "cv_score = cross_val_score(dt,X,Y,cv=skfold)\n"
   ]
  },
  {
   "cell_type": "code",
   "execution_count": null,
   "id": "deff3367",
   "metadata": {},
   "outputs": [],
   "source": [
    "results=cv_score\n",
    "print(\"Results = \", np.mean(results),\"+/-\",np.std(results))"
   ]
  },
  {
   "cell_type": "markdown",
   "id": "39f0c925",
   "metadata": {},
   "source": [
    "# Logistic Regression"
   ]
  },
  {
   "cell_type": "code",
   "execution_count": null,
   "id": "b2f93ec7",
   "metadata": {},
   "outputs": [],
   "source": [
    "lr = LogisticRegression()\n",
    "from sklearn.model_selection import GridSearchCV\n",
    "\n",
    "grid_params = { 'max_iter' : [10000],\n",
    "               'warm_start' : ['False','True'],\n",
    "               'penalty' : ['l1', 'l2', 'elasticnet', 'none']\n",
    "               \n",
    "               }\n",
    "\n",
    "lr_grid = GridSearchCV(\n",
    "    LogisticRegression(),\n",
    "    grid_params,\n",
    "    verbose  = 1,\n",
    "    scoring='accuracy',\n",
    "    cv = 3,\n",
    "    n_jobs = 1\n",
    "    )\n",
    "    \n",
    "lr_grid.fit(X_smote, y_smote)"
   ]
  },
  {
   "cell_type": "code",
   "execution_count": null,
   "id": "b7fc127f",
   "metadata": {},
   "outputs": [],
   "source": [
    "lr_bestgrid = lr_grid.best_estimator_\n"
   ]
  },
  {
   "cell_type": "code",
   "execution_count": null,
   "id": "c381a0d4",
   "metadata": {},
   "outputs": [],
   "source": [
    "y_pred=lr_bestgrid.predict(X_test)\n",
    "print(confusion_matrix(y_test,y_pred))\n",
    "print(\"Accuracy Score {}\".format(accuracy_score(y_test,y_pred)))\n",
    "print(classification_report(y_test,y_pred))\n",
    "     "
   ]
  },
  {
   "cell_type": "code",
   "execution_count": null,
   "id": "c95c7ebe",
   "metadata": {},
   "outputs": [],
   "source": [
    "skfold = StratifiedKFold(n_splits=5)\n",
    "\n",
    "cv_score = cross_val_score(lr_bestgrid,X,Y,cv=skfold)\n",
    "results=cv_score\n",
    "print(\"Results = \", np.mean(results),\"+/-\",np.std(results))"
   ]
  },
  {
   "cell_type": "markdown",
   "id": "8a574a9c",
   "metadata": {},
   "source": [
    "# Gaussian Naive Bayes"
   ]
  },
  {
   "cell_type": "code",
   "execution_count": null,
   "id": "0277ed6b",
   "metadata": {},
   "outputs": [],
   "source": [
    "nb_classifier = GaussianNB()\n",
    "\n",
    "params_NB = {'var_smoothing': np.logspace(0,-9, num=100)}\n",
    "gs_NB = GridSearchCV(GaussianNB(), \n",
    "                 param_grid=params_NB, \n",
    "                 cv=3,   # use any cross validation technique \n",
    "                 verbose=1, \n",
    "                 scoring='accuracy') \n",
    "gs_NB.fit(X_smote, y_smote)"
   ]
  },
  {
   "cell_type": "code",
   "execution_count": null,
   "id": "6888dd3f",
   "metadata": {},
   "outputs": [],
   "source": [
    "gs_NB.best_params_\n"
   ]
  },
  {
   "cell_type": "code",
   "execution_count": null,
   "id": "016f9aef",
   "metadata": {},
   "outputs": [],
   "source": [
    "gs_NB=gs_NB.best_estimator_"
   ]
  },
  {
   "cell_type": "code",
   "execution_count": null,
   "id": "f76f9eeb",
   "metadata": {},
   "outputs": [],
   "source": [
    "y_pred=gs_NB.predict(X_test)\n",
    "print(confusion_matrix(y_test,y_pred))\n",
    "print(\"Accuracy Score {}\".format(accuracy_score(y_test,y_pred)))\n",
    "print(classification_report(y_test,y_pred))"
   ]
  },
  {
   "cell_type": "code",
   "execution_count": null,
   "id": "f02326df",
   "metadata": {},
   "outputs": [],
   "source": [
    "skfold = StratifiedKFold(n_splits=5)\n",
    "\n",
    "cv_score = cross_val_score(GaussianNB(),X,Y,cv=skfold)\n",
    "results=cv_score\n",
    "print(\"Results = \", np.mean(results),\"+/-\",np.std(results))"
   ]
  },
  {
   "cell_type": "markdown",
   "id": "ff75ef9a",
   "metadata": {},
   "source": [
    "# Random Forest"
   ]
  },
  {
   "cell_type": "code",
   "execution_count": null,
   "id": "5cff954f",
   "metadata": {},
   "outputs": [],
   "source": [
    "###The hyperparameter we got from grid search\n",
    "rf=RandomForestClassifier(max_depth=780, max_features='log2', n_estimators=600)\n",
    "### fit the randomized model\n",
    "rf.fit(X_smote, y_smote)"
   ]
  },
  {
   "cell_type": "code",
   "execution_count": null,
   "id": "be6f95c8",
   "metadata": {},
   "outputs": [],
   "source": [
    "from sklearn.metrics import accuracy_score\n",
    "y_pred=rf.predict(X_test)\n",
    "print(confusion_matrix(y_test,y_pred))\n",
    "print(\"Accuracy Score {}\".format(accuracy_score(y_test,y_pred)))\n",
    "print(classification_report(y_test, y_pred))"
   ]
  },
  {
   "cell_type": "code",
   "execution_count": null,
   "id": "55674168",
   "metadata": {},
   "outputs": [],
   "source": [
    "skfold = StratifiedKFold(n_splits=5)\n",
    "\n",
    "cv_score = cross_val_score(rf,X,Y,cv=skfold)\n",
    "results=cv_score\n",
    "print(\"Results = \", np.mean(results),\"+/-\",np.std(results))"
   ]
  },
  {
   "cell_type": "markdown",
   "id": "d3f0d6af",
   "metadata": {},
   "source": [
    "# XGBoost"
   ]
  },
  {
   "cell_type": "code",
   "execution_count": null,
   "id": "8deb0286",
   "metadata": {},
   "outputs": [],
   "source": [
    "###The hyperparameter we got from grid search\n",
    "from xgboost import XGBClassifier\n",
    "xgbc = XGBClassifier(colsample_bytree = 0.8,\n",
    " gamma= 1,\n",
    " max_depth= 3,\n",
    " min_child_weight= 1,\n",
    " subsample= 0.8,\n",
    " objective= 'binary:logistic',\n",
    " nthread= -1,\n",
    " scale_pos_weight=1).fit(X_smote, y_smote)"
   ]
  },
  {
   "cell_type": "code",
   "execution_count": null,
   "id": "90b84139",
   "metadata": {},
   "outputs": [],
   "source": [
    "from sklearn.metrics import accuracy_score\n",
    "y_pred=xgbc.predict(X_test)\n",
    "print(confusion_matrix(y_test,y_pred))\n",
    "print(\"Accuracy Score {}\".format(accuracy_score(y_test,y_pred)))\n",
    "print(classification_report(y_test, y_pred))"
   ]
  },
  {
   "cell_type": "markdown",
   "id": "88ef8139",
   "metadata": {},
   "source": [
    "# AdaBoost"
   ]
  },
  {
   "cell_type": "code",
   "execution_count": null,
   "id": "635baeef",
   "metadata": {},
   "outputs": [],
   "source": [
    "from sklearn.ensemble import AdaBoostClassifier\n",
    "#lrc = LogisticRegression(max_iter=1100)\n",
    "abc = AdaBoostClassifier(n_estimators=50,base_estimator=rf,learning_rate=1).fit(X_smote, y_smote)\n",
    "\n",
    "print(classification_report(y_test,abc.predict(X_test)))\n",
    "     "
   ]
  },
  {
   "cell_type": "code",
   "execution_count": null,
   "id": "8d362919",
   "metadata": {},
   "outputs": [],
   "source": [
    "skfold = StratifiedKFold(n_splits=5)\n",
    "\n",
    "cv_score = cross_val_score(abc,X,Y,cv=skfold)\n",
    "results=cv_score\n",
    "print(\"Results = \", np.mean(results),\"+/-\",np.std(results))"
   ]
  },
  {
   "cell_type": "markdown",
   "id": "bd72cd17",
   "metadata": {},
   "source": [
    "# KNN"
   ]
  },
  {
   "cell_type": "code",
   "execution_count": null,
   "id": "95f3d601",
   "metadata": {},
   "outputs": [],
   "source": [
    "from sklearn.neighbors import KNeighborsClassifier\n",
    "knn = KNeighborsClassifier(n_neighbors=36)\n",
    "knn.fit(X_smote, y_smote)\n",
    "\n",
    "# accuracy score on the test data\n",
    "knn_prediction = knn.predict(X_test) \n",
    "knn_prediction_accuracy = accuracy_score(knn_prediction, y_test) \n",
    "print('Accuracy score of Test data: ', knn_prediction_accuracy)\n",
    "print(classification_report(y_test, knn_prediction)) "
   ]
  },
  {
   "cell_type": "code",
   "execution_count": null,
   "id": "e6423195",
   "metadata": {},
   "outputs": [],
   "source": [
    "k = range(1, 100)\n",
    "train_acc = []\n",
    "test_acc = []\n",
    "for x in k:\n",
    "    knn_clf = KNeighborsClassifier(n_neighbors = x) # Euclidean Distance Metric\n",
    "    knn_clf.fit(X_smote, y_smote)\n",
    "    y_pred = knn_clf.predict(X_test)\n",
    "    train_acc.append(accuracy_score(y_smote, knn_clf.predict(X_smote)))\n",
    "    test_acc.append(accuracy_score(y_test, y_pred))"
   ]
  },
  {
   "cell_type": "code",
   "execution_count": null,
   "id": "06c62369",
   "metadata": {},
   "outputs": [],
   "source": [
    "plt.figure(figsize = (10,10))\n",
    "plt.plot(k,train_acc,'ro-',k,test_acc,'bv--')\n",
    "plt.legend(['Train Accuracy','Test Accuracy'])\n",
    "plt.xlabel('Number of Neighbors (K)')\n",
    "plt.ylabel('Accuracy');\n",
    "     "
   ]
  },
  {
   "cell_type": "code",
   "execution_count": null,
   "id": "4e417197",
   "metadata": {},
   "outputs": [],
   "source": [
    "for x in k:\n",
    "    print('Number of neighbors = ', x, \"Train accuracy = \", train_acc[x-1], \"Test Accuracy = \", test_acc[x-1], \"Difference = \",\n",
    "         (abs(train_acc[x-1] - test_acc[x-1])*100), \"%\")"
   ]
  },
  {
   "cell_type": "code",
   "execution_count": null,
   "id": "13ee7a60",
   "metadata": {},
   "outputs": [],
   "source": [
    "knn = KNeighborsClassifier()\n",
    "from sklearn.model_selection import GridSearchCV\n",
    "\n",
    "grid_params = { 'n_neighbors' : [36],\n",
    "               'weights' : ['uniform','distance'],\n",
    "               'metric' : ['minkowski','euclidean','manhattan']}\n",
    "\n",
    "knn_grid = GridSearchCV(\n",
    "    KNeighborsClassifier(),\n",
    "    grid_params,\n",
    "    verbose  = 1,\n",
    "    cv = 10,\n",
    "    return_train_score=False,\n",
    "    scoring= 'accuracy',\n",
    "    n_jobs = 1\n",
    "    )\n",
    "    \n",
    "knn_grid.fit(X_smote, y_smote)"
   ]
  },
  {
   "cell_type": "code",
   "execution_count": null,
   "id": "0db1b31a",
   "metadata": {},
   "outputs": [],
   "source": [
    "knn_grid.best_estimator_"
   ]
  },
  {
   "cell_type": "code",
   "execution_count": null,
   "id": "0ee13043",
   "metadata": {},
   "outputs": [],
   "source": [
    "knn_bestgrid=knn_grid.best_estimator_"
   ]
  },
  {
   "cell_type": "code",
   "execution_count": null,
   "id": "c2e84ed6",
   "metadata": {},
   "outputs": [],
   "source": [
    "knn_bestgrid"
   ]
  },
  {
   "cell_type": "code",
   "execution_count": null,
   "id": "ca598df8",
   "metadata": {},
   "outputs": [],
   "source": [
    "y_pred=knn_bestgrid.predict(X_test)\n",
    "print(confusion_matrix(y_test,y_pred))\n",
    "print(\"Accuracy Score {}\".format(accuracy_score(y_test,y_pred)))\n",
    "print(classification_report(y_test,y_pred))"
   ]
  },
  {
   "cell_type": "code",
   "execution_count": null,
   "id": "69ab4bbb",
   "metadata": {},
   "outputs": [],
   "source": [
    "skfold = StratifiedKFold(n_splits=5)\n",
    "\n",
    "cv_score = cross_val_score(knn_bestgrid,X,Y,cv=skfold)\n",
    "results=cv_score\n",
    "print(\"Results = \", np.mean(results),\"+/-\",np.std(results))"
   ]
  },
  {
   "cell_type": "markdown",
   "id": "f0bf99b8",
   "metadata": {},
   "source": [
    "# Soft Voting"
   ]
  },
  {
   "cell_type": "code",
   "execution_count": null,
   "id": "6c9cc20d",
   "metadata": {},
   "outputs": [],
   "source": [
    "from sklearn.ensemble import VotingClassifier\n",
    "estimator = []\n",
    "estimator.append(('RF',RandomForestClassifier(max_depth=780, max_features='log2', n_estimators=600)))\n",
    "estimator.append(('SVC', SVC(C=100, gamma=0.1,probability=True)))\n",
    "estimator.append(('ABC',AdaBoostClassifier(n_estimators=50,base_estimator=rf,learning_rate=1)))\n",
    "estimator.append(('Bag',BaggingClassifier(DecisionTreeClassifier(random_state=42),n_estimators=500,\n",
    "                           max_samples=100,bootstrap=True,n_jobs=1,random_state=42,\n",
    "                           oob_score=True)))\n",
    "\n",
    "\n",
    "\n",
    "# Voting Classifier with soft voting\n",
    "Hyper_vot_soft = VotingClassifier(estimators = estimator, voting ='soft')\n",
    "Hyper_vot_soft.fit(X_smote, y_smote)\n",
    "y_pred = Hyper_vot_soft.predict(X_test)\n",
    "  \n",
    "# using accuracy_score metric to predict accuracy\n",
    "score = accuracy_score(y_test, y_pred)\n",
    "print(\"Soft Voting Score % d\" % score)\n",
    "print(confusion_matrix(y_test,y_pred))\n",
    "print(classification_report(y_test,y_pred))"
   ]
  },
  {
   "cell_type": "code",
   "execution_count": null,
   "id": "04cecbe2",
   "metadata": {},
   "outputs": [],
   "source": [
    "skfold = StratifiedKFold(n_splits=5)\n",
    "\n",
    "cv_score = cross_val_score(Hyper_vot_soft,X,Y,cv=skfold)\n",
    "results=cv_score\n",
    "print(\"Results = \", np.mean(results),\"+/-\",np.std(results))"
   ]
  },
  {
   "cell_type": "code",
   "execution_count": 274,
   "id": "29701dcb",
   "metadata": {},
   "outputs": [],
   "source": [
    "final_roc_auc = []"
   ]
  },
  {
   "cell_type": "code",
   "execution_count": 275,
   "id": "f16db541",
   "metadata": {},
   "outputs": [],
   "source": [
    "probas1 = Hyper_vot_soft.predict_proba(X_test)[:, 1]"
   ]
  },
  {
   "cell_type": "code",
   "execution_count": 276,
   "id": "f130405e",
   "metadata": {},
   "outputs": [],
   "source": [
    "false_positive_rate1, true_positive_rate1, threshold1 = roc_curve(y_test, probas1)"
   ]
  },
  {
   "cell_type": "code",
   "execution_count": 277,
   "id": "8fa2008d",
   "metadata": {},
   "outputs": [
    {
     "name": "stdout",
     "output_type": "stream",
     "text": [
      "roc_auc_score for Soft Voting Classifier:  0.8612962962962963\n"
     ]
    }
   ],
   "source": [
    "print('roc_auc_score for Soft Voting Classifier: ', roc_auc_score(y_test, probas1))"
   ]
  },
  {
   "cell_type": "code",
   "execution_count": 278,
   "id": "118069eb",
   "metadata": {},
   "outputs": [],
   "source": [
    "final_roc_auc.append({'model_name': 'Soft Voting Classifier', 'fpr': false_positive_rate1, 'tpr': true_positive_rate1, 'auc': roc_auc_score(y_test, probas1)})\n"
   ]
  },
  {
   "cell_type": "code",
   "execution_count": 279,
   "id": "e76c78a3",
   "metadata": {
    "scrolled": true
   },
   "outputs": [
    {
     "data": {
      "image/png": "[encoded data removed]",
      "text/plain": [
       "<Figure size 800x600 with 1 Axes>"
      ]
     },
     "metadata": {},
     "output_type": "display_data"
    }
   ],
   "source": [
    "fig = plt.figure(figsize=(8,6))\n",
    "\n",
    "for m in final_roc_auc:\n",
    "    plt.plot(m['fpr'], \n",
    "             m['tpr'], \n",
    "             label=\"{}, AUC={:.2f}\".format(m['model_name'], m['auc']))\n",
    "    \n",
    "plt.plot([0,1], [0,1], color='orange', linestyle='--')\n",
    "\n",
    "plt.xticks(np.arange(0.0, 1.1, step=0.1))\n",
    "plt.xlabel(\"False Positive Rate\", fontsize=15)\n",
    "\n",
    "plt.yticks(np.arange(0.0, 1.1, step=0.1))\n",
    "plt.ylabel(\"True Positive Rate\", fontsize=15)\n",
    "\n",
    "plt.title('ROC Curve Analysis', fontweight='bold', fontsize=15)\n",
    "plt.legend(prop={'size':10}, loc='lower right')\n",
    "\n",
    "plt.show()"
   ]
  },
  {
   "cell_type": "markdown",
   "id": "41b0388a",
   "metadata": {},
   "source": [
    "# ZeroR"
   ]
  },
  {
   "cell_type": "code",
   "execution_count": null,
   "id": "7c1ca73e",
   "metadata": {},
   "outputs": [],
   "source": [
    "from sklearn.dummy import DummyClassifier\n",
    "from sklearn.metrics import classification_report, accuracy_score, confusion_matrix\n",
    "dummy_clf = DummyClassifier(strategy = 'most_frequent', random_state = 20)\n",
    "dummy_clf.fit(X_smote, y_smote)\n",
    "y_pred = dummy_clf.predict(X_test)\n",
    "print(classification_report(y_test, y_pred))\n",
    "print(\"Train Accuracy: \", accuracy_score(y_smote, dummy_clf.predict(X_smote)))\n",
    "print(\"Test Accuracy: \", accuracy_score(y_test, y_pred))"
   ]
  },
  {
   "cell_type": "code",
   "execution_count": null,
   "id": "2d309cb8",
   "metadata": {},
   "outputs": [],
   "source": [
    "y_pred = dummy_clf.predict(X_test)\n",
    "\n",
    "# Plotting Confusion Matrix\n",
    "cm = confusion_matrix(y_test, y_pred)\n",
    "cm_norm = cm/cm.sum(axis=1)[:, np.newaxis]"
   ]
  },
  {
   "cell_type": "markdown",
   "id": "785caae2",
   "metadata": {},
   "source": [
    "# AUC Curve"
   ]
  },
  {
   "cell_type": "code",
   "execution_count": null,
   "id": "0141a722",
   "metadata": {},
   "outputs": [],
   "source": [
    "DTC2=BaggingClassifier(DecisionTreeClassifier(random_state=42),n_estimators=500,\n",
    "                           max_samples=100,bootstrap=True,n_jobs=1,random_state=42,\n",
    "                           oob_score=True)\n",
    "DTC2.fit(X_smote, y_smote)\n",
    "\n",
    "\n",
    "DTC3=DecisionTreeClassifier(max_depth=2, min_samples_leaf=5, random_state=0)\n",
    "DTC3.fit(X_smote, y_smote)\n",
    "\n",
    "rf_randomcv2= RandomForestClassifier(max_depth=780, max_features='log2', n_estimators=600)\n",
    "rf_randomcv2.fit(X_smote, y_smote)\n",
    "\n",
    "SVC2=SVC(C=100, gamma=0.1,probability=True)\n",
    "SVC2.fit(X_smote, y_smote)\n",
    "\n",
    "lr_grid2= lr_bestgrid\n",
    "lr_grid2.fit(X_smote, y_smote)\n",
    "\n",
    "gs_NB2=gs_NB\n",
    "gs_NB2.fit(X_smote, y_smote)\n",
    "\n",
    "XGB_clf2=XGBClassifier(colsample_bytree = 0.8,\n",
    " gamma= 1,\n",
    " max_depth= 3,\n",
    " min_child_weight= 1,\n",
    " subsample= 0.8,\n",
    " objective= 'binary:logistic',\n",
    " nthread= -1,\n",
    " scale_pos_weight=1)\n",
    "XGB_clf2.fit(X_smote, y_smote)\n",
    "\n",
    "knn_grid2= KNeighborsClassifier(n_neighbors=95,metric='manhattan', weights='distance')\n",
    "knn_grid2.fit(X_smote, y_smote)"
   ]
  },
  {
   "cell_type": "code",
   "execution_count": null,
   "id": "2c7dc9bf",
   "metadata": {},
   "outputs": [],
   "source": [
    "final_roc_auc = []"
   ]
  },
  {
   "cell_type": "code",
   "execution_count": null,
   "id": "8541d908",
   "metadata": {},
   "outputs": [],
   "source": [
    "#use the model to predict the target values for test dataset. We are storing the predicted class by all the models and we will use it to get the ROC AUC score\n",
    "probas1 = dummy_clf.predict_proba(X_test)[:, 1]\n",
    "probas2 = DTC2.predict_proba(X_test)[:, 1]\n",
    "probas3 = knn_grid2.predict_proba(X_test)[:, 1]\n",
    "probas4 = SVC2.predict_proba(X_test)[:, 1]\n",
    "probas5 = rf_randomcv2.predict_proba(X_test)[:, 1]\n",
    "probas6 = gs_NB2.predict_proba(X_test)[:, 1]\n",
    "probas7 = abc.predict_proba(X_test)[:, 1]\n",
    "probas8 = XGB_clf2.predict_proba(X_test)[:, 1]\n",
    "probas9 = lr_grid2.predict_proba(X_test)[:, 1]\n",
    "probas10 = Hyper_vot_soft.predict_proba(X_test)[:, 1]\n",
    "probas11 = DTC3.predict_proba(X_test)[:, 1]"
   ]
  },
  {
   "cell_type": "code",
   "execution_count": null,
   "id": "0b023ace",
   "metadata": {},
   "outputs": [],
   "source": [
    "# get False Positive Rates and True Postive rates for the Classifiers because these will be used to plot the ROC Curve.\n",
    "false_positive_rate1, true_positive_rate1, threshold1 = roc_curve(y_test, probas1)\n",
    "false_positive_rate2, true_positive_rate2, threshold2 = roc_curve(y_test, probas2)\n",
    "false_positive_rate3, true_positive_rate3, threshold3 = roc_curve(y_test, probas3)\n",
    "false_positive_rate4, true_positive_rate4, threshold4 = roc_curve(y_test, probas4)\n",
    "false_positive_rate5, true_positive_rate5, threshold5 = roc_curve(y_test, probas5)\n",
    "false_positive_rate6, true_positive_rate6, threshold6 = roc_curve(y_test, probas6)\n",
    "false_positive_rate7, true_positive_rate7, threshold6 = roc_curve(y_test, probas7)\n",
    "false_positive_rate8, true_positive_rate8, threshold6 = roc_curve(y_test, probas8)\n",
    "false_positive_rate9, true_positive_rate9, threshold6 = roc_curve(y_test, probas9)\n",
    "false_positive_rate10, true_positive_rate10, threshold6 = roc_curve(y_test, probas10)\n",
    "false_positive_rate11, true_positive_rate11, threshold6 = roc_curve(y_test, probas11)"
   ]
  },
  {
   "cell_type": "code",
   "execution_count": null,
   "id": "bf79bcf9",
   "metadata": {},
   "outputs": [],
   "source": [
    "print('roc_auc_score for ZeroR Classifier: ', roc_auc_score(y_test, probas1))\n",
    "print('roc_auc_score for Bagging DecisionTree: ', roc_auc_score(y_test, probas2))\n",
    "print('roc_auc_score for KNN Classifier: ', roc_auc_score(y_test, probas3))\n",
    "print('roc_auc_score for SVM Classifier: ', roc_auc_score(y_test, probas4))\n",
    "print('roc_auc_score for Random Forest Classifier: ', roc_auc_score(y_test, probas5))\n",
    "print('roc_auc_score for Naive Bays Classifier: ', roc_auc_score(y_test, probas6))\n",
    "print('roc_auc_score for Ada Boost Classifier: ', roc_auc_score(y_test, probas7))\n",
    "print('roc_auc_score for XG Boost Classifier: ', roc_auc_score(y_test, probas8))\n",
    "print('roc_auc_score for Logistic Regression: ', roc_auc_score(y_test, probas9))\n",
    "print('roc_auc_score for Voting Classifier: ', roc_auc_score(y_test, probas10))\n",
    "print('roc_auc_score for DecisionTree: ', roc_auc_score(y_test, probas11))"
   ]
  },
  {
   "cell_type": "code",
   "execution_count": null,
   "id": "18d59b8a",
   "metadata": {},
   "outputs": [],
   "source": [
    "final_roc_auc.append({'model_name': 'ZeroR Classifier', 'fpr': false_positive_rate1, 'tpr': true_positive_rate1, 'auc': roc_auc_score(y_test, probas1)})\n",
    "final_roc_auc.append({'model_name': 'Bagging Decision Tree Classifier', 'fpr': false_positive_rate2, 'tpr': true_positive_rate2, 'auc': roc_auc_score(y_test, probas2)})\n",
    "final_roc_auc.append({'model_name': 'KNeighbors Classifier', 'fpr': false_positive_rate3, 'tpr': true_positive_rate3, 'auc': roc_auc_score(y_test, probas3)})\n",
    "final_roc_auc.append({'model_name': 'SVM Classifier', 'fpr': false_positive_rate4, 'tpr': true_positive_rate4, 'auc': roc_auc_score(y_test, probas4)})\n",
    "final_roc_auc.append({'model_name': 'Random Forest Classifier', 'fpr': false_positive_rate5, 'tpr': true_positive_rate5, 'auc': roc_auc_score(y_test, probas5)})\n",
    "final_roc_auc.append({'model_name': 'Naive Bays Classifier', 'fpr': false_positive_rate6, 'tpr': true_positive_rate6, 'auc': roc_auc_score(y_test, probas6)})\n",
    "final_roc_auc.append({'model_name': 'Ada Boost Classifier', 'fpr': false_positive_rate7, 'tpr': true_positive_rate7, 'auc': roc_auc_score(y_test, probas7)})\n",
    "final_roc_auc.append({'model_name': 'XG Boost Classifier', 'fpr': false_positive_rate8, 'tpr': true_positive_rate8, 'auc': roc_auc_score(y_test, probas8)})\n",
    "final_roc_auc.append({'model_name': 'Logistic Regression', 'fpr': false_positive_rate9, 'tpr': true_positive_rate9, 'auc': roc_auc_score(y_test, probas9)})\n",
    "final_roc_auc.append({'model_name': 'Voting Classifier', 'fpr': false_positive_rate10, 'tpr': true_positive_rate10, 'auc': roc_auc_score(y_test, probas10)})\n",
    "final_roc_auc.append({'model_name': 'Decision Tree Classifier', 'fpr': false_positive_rate11, 'tpr': true_positive_rate11, 'auc': roc_auc_score(y_test, probas11)})\n"
   ]
  },
  {
   "cell_type": "code",
   "execution_count": null,
   "id": "20e9e5cb",
   "metadata": {},
   "outputs": [],
   "source": [
    "fig = plt.figure(figsize=(8,6))\n",
    "\n",
    "for m in final_roc_auc:\n",
    "    plt.plot(m['fpr'], \n",
    "             m['tpr'], \n",
    "             label=\"{}, AUC={:.2f}\".format(m['model_name'], m['auc']))\n",
    "    \n",
    "plt.plot([0,1], [0,1], color='orange', linestyle='--')\n",
    "\n",
    "plt.xticks(np.arange(0.0, 1.1, step=0.1))\n",
    "plt.xlabel(\"False Positive Rate\", fontsize=15)\n",
    "\n",
    "plt.yticks(np.arange(0.0, 1.1, step=0.1))\n",
    "plt.ylabel(\"True Positive Rate\", fontsize=15)\n",
    "\n",
    "plt.title('ROC Curve Analysis', fontweight='bold', fontsize=15)\n",
    "plt.legend(prop={'size':10}, loc='lower right')\n",
    "\n",
    "plt.show()"
   ]
  },
  {
   "cell_type": "code",
   "execution_count": 273,
   "id": "28e35077",
   "metadata": {},
   "outputs": [
    {
     "name": "stdout",
     "output_type": "stream",
     "text": [
      "╒════╤════════════════════╤════════════╤════════════╤══════════╤════════════╕\n",
      "│    │ Model              │   Accuracy │   F1 Score │   Recall │        AUC │\n",
      "╞════╪════════════════════╪════════════╪════════════╪══════════╪════════════╡\n",
      "│  0 │ ZeroR              │   0.649351 │   0        │ 0        │   0.5      │\n",
      "├────┼────────────────────┼────────────┼────────────┼──────────┼────────────┤\n",
      "│  1 │ Bagging_DT         │   0.772727 │   0.684685 │ 0.703704 │   0.861574 │\n",
      "├────┼────────────────────┼────────────┼────────────┼──────────┼────────────┤\n",
      "│  2 │ DecisionTree       │   0.727273 │   0.66129  │ 0.759259 │   0.74963  │\n",
      "├────┼────────────────────┼────────────┼────────────┼──────────┼────────────┤\n",
      "│  3 │ LogisticRegression │   0.766234 │   0.684211 │ 0.722222 │   0.868148 │\n",
      "├────┼────────────────────┼────────────┼────────────┼──────────┼────────────┤\n",
      "│  4 │ NaiveBayes         │   0.733766 │   0.630631 │ 0.648148 │   0.826111 │\n",
      "├────┼────────────────────┼────────────┼────────────┼──────────┼────────────┤\n",
      "│  5 │ RandomForest       │   0.75974  │   0.654206 │ 0.648148 │   0.850556 │\n",
      "├────┼────────────────────┼────────────┼────────────┼──────────┼────────────┤\n",
      "│  6 │ XGBoost            │   0.746753 │   0.642202 │ 0.648148 │   0.825    │\n",
      "├────┼────────────────────┼────────────┼────────────┼──────────┼────────────┤\n",
      "│  7 │ AdaBoost           │   0.766234 │   0.666667 │ 0.666667 │   0.846389 │\n",
      "├────┼────────────────────┼────────────┼────────────┼──────────┼────────────┤\n",
      "│  8 │ KNN                │   0.753247 │   0.693548 │ 0.796296 │   0.836852 │\n",
      "├────┼────────────────────┼────────────┼────────────┼──────────┼────────────┤\n",
      "│  9 │ SoftVoting         │   0.792208 │   0.714286 │ 0.740741 │   0.861296 │\n",
      "├────┼────────────────────┼────────────┼────────────┼──────────┼────────────┤\n",
      "│ 10 │ SVM                │   0.753247 │   0.693548 │ 0.796296 │ nan        │\n",
      "╘════╧════════════════════╧════════════╧════════════╧══════════╧════════════╛\n"
     ]
    }
   ],
   "source": [
    "import pandas as pd\n",
    "from tabulate import tabulate\n",
    "from sklearn.metrics import accuracy_score, f1_score, recall_score, roc_auc_score\n",
    "\n",
    "# Replace these with your actual models\n",
    "models = {\n",
    "    'ZeroR': dummy_clf,\n",
    "    'Bagging_DT': bagging,\n",
    "    'DecisionTree': dt,\n",
    "    'LogisticRegression': lr_bestgrid,\n",
    "    'NaiveBayes': gs_NB2,\n",
    "    'RandomForest': rf_randomcv2,\n",
    "    'XGBoost': XGB_clf2,\n",
    "    'AdaBoost': abc,\n",
    "    'KNN': knn_bestgrid,\n",
    "    'SoftVoting': Hyper_vot_soft,\n",
    "    'SVM': svm_bestgrid\n",
    "}\n",
    "# Initialize lists to store metrics\n",
    "accuracy_scores = []\n",
    "f1_scores = []\n",
    "recall_scores = []\n",
    "auc_scores = []\n",
    "\n",
    "# Iterate through models\n",
    "for model_name, model in models.items():\n",
    "    # Predictions\n",
    "    y_pred = model.predict(X_test)\n",
    "    \n",
    "    # Calculate metrics\n",
    "    accuracy = accuracy_score(y_test, y_pred)\n",
    "    f1 = f1_score(y_test, y_pred)\n",
    "    recall = recall_score(y_test, y_pred)\n",
    "    \n",
    "    # For models that have predict_proba method, calculate AUC\n",
    "    if hasattr(model, 'predict_proba'):\n",
    "        y_prob = model.predict_proba(X_test)[:, 1]\n",
    "        auc = roc_auc_score(y_test, y_prob)\n",
    "    else:\n",
    "        auc = None\n",
    "    \n",
    "    # Append metrics to lists\n",
    "    accuracy_scores.append(accuracy)\n",
    "    f1_scores.append(f1)\n",
    "    recall_scores.append(recall)\n",
    "    auc_scores.append(auc)\n",
    "\n",
    "# Create a DataFrame\n",
    "results_df = pd.DataFrame({\n",
    "    'Model': list(models.keys()),\n",
    "    'Accuracy': accuracy_scores,\n",
    "    'F1 Score': f1_scores,\n",
    "    'Recall': recall_scores,\n",
    "    'AUC': auc_scores\n",
    "})\n",
    "\n",
    "# Display the table\n",
    "print(tabulate(results_df, headers='keys', tablefmt='fancy_grid'))\n"
   ]
  },
  {
   "cell_type": "code",
   "execution_count": null,
   "id": "9cd2b2a2",
   "metadata": {},
   "outputs": [],
   "source": []
  }
 ],
 "metadata": {
  "kernelspec": {
   "display_name": "Python 3 (ipykernel)",
   "language": "python",
   "name": "python3"
  },
  "language_info": {
   "codemirror_mode": {
    "name": "ipython",
    "version": 3
   },
   "file_extension": ".py",
   "mimetype": "text/x-python",
   "name": "python",
   "nbconvert_exporter": "python",
   "pygments_lexer": "ipython3",
   "version": "3.9.13"
  }
 },
 "nbformat": 4,
 "nbformat_minor": 5
}
